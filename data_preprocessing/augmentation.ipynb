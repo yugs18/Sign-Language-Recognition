{
 "cells": [
  {
   "cell_type": "code",
   "execution_count": 8,
   "metadata": {},
   "outputs": [],
   "source": [
    "import os\n",
    "import tensorflow as tf\n",
    "from tensorflow.keras.preprocessing.image import ImageDataGenerator\n",
    "import uuid"
   ]
  },
  {
   "cell_type": "code",
   "execution_count": 9,
   "metadata": {},
   "outputs": [],
   "source": [
    "# Define the input and output directories\n",
    "input_dir = \"../dataset/images\"\n",
    "output_dir = \"../dataset/augmented_images\""
   ]
  },
  {
   "cell_type": "code",
   "execution_count": 10,
   "metadata": {},
   "outputs": [],
   "source": [
    "# Create output directory if it doesn't exist\n",
    "os.makedirs(output_dir, exist_ok=True)"
   ]
  },
  {
   "cell_type": "code",
   "execution_count": 11,
   "metadata": {},
   "outputs": [],
   "source": [
    "# Labels for sign language dataset\n",
    "labels = list(\"123456789ABCDEFGHIJKLMNOPQRSTUVWXYZ\")\n",
    "\n",
    "# Create subdirectories for augmented images\n",
    "for label in labels:\n",
    "    os.makedirs(os.path.join(output_dir, label), exist_ok=True)"
   ]
  },
  {
   "cell_type": "code",
   "execution_count": 12,
   "metadata": {},
   "outputs": [],
   "source": [
    "# Define the augmentation generator\n",
    "datagen = ImageDataGenerator(\n",
    "    rotation_range=30,          # Rotate images up to 30 degrees\n",
    "    width_shift_range=0.1,      # Horizontal shift\n",
    "    height_shift_range=0.1,     # Vertical shift\n",
    "    shear_range=0.2,            # Shear transformation\n",
    "    zoom_range=0.2,             # Random zoom\n",
    "    horizontal_flip=True,       # Randomly flip images horizontally\n",
    "    fill_mode='nearest'         # Fill any empty space after transformations\n",
    ")"
   ]
  },
  {
   "cell_type": "code",
   "execution_count": 13,
   "metadata": {},
   "outputs": [],
   "source": [
    "# Function to augment and save images with resizing\n",
    "def augment_images(input_dir, output_dir, label, augment_count=5):\n",
    "    input_path = os.path.join(input_dir, label)\n",
    "    output_path = os.path.join(output_dir, label)\n",
    "\n",
    "    for img_name in os.listdir(input_path):\n",
    "        if img_name.endswith(\".jpg\"):\n",
    "            img_path = os.path.join(input_path, img_name)\n",
    "            \n",
    "            # Load the image\n",
    "            img = tf.keras.preprocessing.image.load_img(img_path)\n",
    "            img_array = tf.keras.preprocessing.image.img_to_array(img)\n",
    "            \n",
    "            # Resize the image to 32x32\n",
    "            img_array = tf.image.resize(img_array, (300, 300))  # Resize to 32x32\n",
    "            img_array = img_array.numpy()  # Convert tensor to numpy array\n",
    "            \n",
    "            img_array = img_array.reshape((1,) + img_array.shape)  # Reshape for generator\n",
    "            \n",
    "            # Generate augmented images\n",
    "            count = 0\n",
    "            for batch in datagen.flow(img_array, batch_size=1):\n",
    "                aug_img = tf.keras.preprocessing.image.array_to_img(batch[0])\n",
    "                \n",
    "                # Save the augmented image with a unique name\n",
    "                aug_filename = os.path.join(output_path, f\"{uuid.uuid4().hex}.jpg\")\n",
    "                aug_img.save(aug_filename)\n",
    "                \n",
    "                count += 1\n",
    "                if count >= augment_count:  # Stop after creating specified number of augmentations\n",
    "                    break"
   ]
  },
  {
   "cell_type": "code",
   "execution_count": 14,
   "metadata": {},
   "outputs": [
    {
     "name": "stdout",
     "output_type": "stream",
     "text": [
      "Augmentation complete!\n"
     ]
    }
   ],
   "source": [
    "# Apply augmentation for each label\n",
    "for label in labels:\n",
    "    augment_images(input_dir, output_dir, label, augment_count=5)\n",
    "\n",
    "print(\"Augmentation complete!\")"
   ]
  }
 ],
 "metadata": {
  "kernelspec": {
   "display_name": "tf",
   "language": "python",
   "name": "python3"
  },
  "language_info": {
   "codemirror_mode": {
    "name": "ipython",
    "version": 3
   },
   "file_extension": ".py",
   "mimetype": "text/x-python",
   "name": "python",
   "nbconvert_exporter": "python",
   "pygments_lexer": "ipython3",
   "version": "3.12.7"
  }
 },
 "nbformat": 4,
 "nbformat_minor": 2
}
